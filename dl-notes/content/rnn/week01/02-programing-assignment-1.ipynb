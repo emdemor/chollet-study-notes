{
 "cells": [
  {
   "cell_type": "markdown",
   "id": "111ed24c",
   "metadata": {},
   "source": [
    "## Construindo uma Rede Neural Recorrente\n",
    "\n",
    "São redes neurais arquitetadas para reconhecer padrões em sequência de dados, como textos, genomas, caligrafia, discursos falados, ou dados de séries uméricas que emanam de sensores, bolsas de valores, e agências governamentais. Esses algoritmos consideram tempo e sequência e, por conta disso, tem uma ordem temporal.\n",
    "\n",
    "As redes neurais recorrentes tem sua efetividade tão alta para o caso de sequência pelo fato de serem estruturas com \"memória\".\n",
    "\n",
    "<img src=\"images/RNN.png\" style=\"width:700px;\">\n",
    "\n",
    "<!-- Here is my nifty citation {cite}`holdgraf_evidence_2014`. -->\n",
    "\n",
    "\n",
    "**Notação**:\n",
    "- Sobrescrito $[l]$ refere-se a um objeto relacionado à $l$-ésima camada. \n",
    "\n",
    "- Sobrescrito $(i)$ refere-se a um objeto relacionado com o $i$-ésimo exemplo. \n",
    "\n",
    "- Sobrescrito $\\langle t \\rangle$ refere-se à um objeto to  $t$-ésimo passo temporal.\n",
    "    \n",
    "- Subscrito $i$ refere-se à $i$-ésima entrada de um vetor.\n",
    "\n",
    "- $n_x$: dimensão do vetor em cada passo temporal. Para o caso de palavras, será a dimensão do espaço onde as palavras estão representadas\n",
    "\n",
    "- $T_x$: tamanho da sequência de entrada\n",
    "\n",
    "- $n_a$: Número de elementos da ativação\n",
    "\n",
    "- $g = g(x)$: função de ativação\n",
    "\n",
    "**Exemplo**:  \n",
    "- $a^{(2)[3]<4>}_5$ é a ativação do segundo exemplo (2), terceira camada [3], quarto passo temporal, e quinta entrada do vetor.\n",
    "\n"
   ]
  },
  {
   "cell_type": "markdown",
   "id": "8a7c0c4e",
   "metadata": {},
   "source": [
    "<a name='1'></a>\n",
    "## 1 - Rede Neural Recorrente Básica\n",
    "\n",
    "\n",
    "Para um dado exemplo dentro e um corpus, designado por $i$, vamos considerar a seguinte sequência: [$x^{(i)<1>}$ , $x^{(i)<2>}$ , $x^{(i)<3>}$ ,..., $x^{(i)<4>}$]. Mas o que é $x^{(i)<t>}$? A quantidade $x^{(i)<t>}$ é um vetor de dimensão $n_x$, cuja a $j$-ésima componente é $x^{(i)<t>}_{j}$.\n",
    "\n",
    "**Exemplo**\n",
    "Vamos considerar a seguinte sequência.\n",
    "\n",
    "$$\n",
    "    x^{(i)} = \\text{\"A casa é bela.\"}\n",
    "$$\n",
    "\n",
    "\n",
    "Logo:\n",
    "\n",
    "$$\n",
    "    x^{(i)<1>} = \\text{\"A\"}, \\\n",
    "    x^{(i)<2>} = \\text{\"casa\"}, \\\n",
    "    x^{(i)<3>} = \\text{\"é\"}, \\\n",
    "    x^{(i)<4>} = \\text{\"bela\"}. \\\n",
    "$$\n",
    "\n",
    "Agora, vamos considerar o seguinte dicionário de palavras:\n",
    "$$\n",
    "D = \\left[\\begin{array}{c} \\text{A} \\\\ \\text{bela} \\\\ \\text{casa} \\\\ \\text{é} \\\\ \\end{array}\\right]\n",
    "$$\n",
    "\n",
    "Esse dicionário tem 4 elementos. Vamos representar essa quantidade pela notação $n_x$.\n",
    "\n",
    "$$\n",
    "    n_x = 4.\n",
    "$$\n",
    "\n",
    "Assim, podemos representar as palavras como:\n",
    "\n",
    "$$\n",
    "    x^{(i)<1>} = \\left[\\begin{array}{c} 1 \\\\ 0 \\\\ 0 \\\\ 0 \\\\ \\end{array}\\right], \\\n",
    "    x^{(i)<2>} = \\left[\\begin{array}{c} 0 \\\\ 0 \\\\ 1 \\\\ 0 \\\\ \\end{array}\\right], \\\n",
    "    x^{(i)<3>} = \\left[\\begin{array}{c} 0 \\\\ 0 \\\\ 0 \\\\ 1 \\\\ \\end{array}\\right], \\\n",
    "    x^{(i)<4>} = \\left[\\begin{array}{c} 0 \\\\ 1 \\\\ 0 \\\\ 0 \\\\ \\end{array}\\right], \\\n",
    "$$\n",
    "\n",
    "Portanto, a frase \"A casa é bela\", será representada por:\n",
    "$$\n",
    "    x^{(i)} = \n",
    "    \\left[\\begin{array}{cccc}\n",
    "    \\text{\"A\"}\\\\\n",
    "    \\text{\"casa\"}\\\\\n",
    "    \\text{\"é\"}\\\\\n",
    "    \\text{\"bela\"}\n",
    "    \\end{array}\\right] = \n",
    "    \\left[\\begin{array}{cccc}\n",
    "    x^{(i)<1>}\\\\\n",
    "    x^{(i)<2>}\\\\\n",
    "    x^{(i)<3>}\\\\\n",
    "    x^{(i)<4>}\n",
    "    \\end{array}\\right]\n",
    "    = \\left[\\begin{array}{cccc}\n",
    "    1 & 0 & 0 & 0\\\\\n",
    "    0 & 0 & 1 & 0\\\\\n",
    "    0 & 0 & 0 & 1\\\\\n",
    "    0 & 1 & 0 & 0\n",
    "    \\end{array}\\right]\n",
    "$$\n",
    "\n",
    "\n",
    "\n",
    "<!-- $$\n",
    "    x^{(i)} = \n",
    "    \\left[\\begin{array}{cccc}\n",
    "    0 & 1 & \\cdots & 0\\\\\n",
    "    0 & 0 & \\cdots & 1\\\\\n",
    "    1 & 0 & \\ddots & 0\\\\\n",
    "    \\vdots & \\vdots & \\vdots & \\vdots\\\\\n",
    "    0 & 1 & 0 & 0\n",
    "    \\end{array}\\right]\n",
    "$$ -->\n",
    "\n",
    "Considerando um caso geral, teremos:\n",
    "\n",
    "\n",
    "<img src=\"images/matrix.png\" style=\"height:200px;\">"
   ]
  },
  {
   "cell_type": "code",
   "execution_count": 1,
   "id": "e8f94392",
   "metadata": {},
   "outputs": [],
   "source": [
    "import pandas as pd\n",
    "import numpy as np\n",
    "\n",
    "from datetime import datetime, timedelta\n",
    "from tqdm import tqdm"
   ]
  },
  {
   "cell_type": "code",
   "execution_count": 2,
   "id": "b4e0b339",
   "metadata": {},
   "outputs": [],
   "source": [
    "%config IPCompleter.use_jedi=False\n",
    "\n",
    "pd.options.display.max_columns = None"
   ]
  },
  {
   "cell_type": "code",
   "execution_count": 38,
   "id": "4bc719ca",
   "metadata": {},
   "outputs": [],
   "source": [
    "def softmax(x):\n",
    "    e_x = np.exp(x - np.max(x))\n",
    "    return e_x / e_x.sum(axis=0)\n",
    "\n",
    "\n",
    "n_a = 2\n",
    "n_x = 4\n",
    "n_y = 1\n",
    "\n",
    "Wax = np.random.randn(n_a, n_x)\n",
    "\n",
    "Waa = np.random.randn(n_a, n_a)\n",
    "\n",
    "xt = np.random.randn(n_x,1)\n",
    "\n",
    "at = np.random.randn(n_a,1)\n",
    "\n",
    "ba = np.random.randn(n_a,1)\n",
    "\n",
    "# Dimensão de $x^{<t>}$ = n_x\n",
    "\n"
   ]
  },
  {
   "cell_type": "code",
   "execution_count": 36,
   "id": "c837a723",
   "metadata": {},
   "outputs": [
    {
     "data": {
      "text/plain": [
       "array([[1.25150744],\n",
       "       [1.73784543]])"
      ]
     },
     "execution_count": 36,
     "metadata": {},
     "output_type": "execute_result"
    }
   ],
   "source": [
    "np.dot(Wax,xt) + np.dot(Waa,at) + ba"
   ]
  },
  {
   "cell_type": "code",
   "execution_count": 41,
   "id": "441508bf",
   "metadata": {},
   "outputs": [
    {
     "data": {
      "text/plain": [
       "array([9.99983299e-01, 1.67014218e-05])"
      ]
     },
     "execution_count": 41,
     "metadata": {},
     "output_type": "execute_result"
    }
   ],
   "source": [
    "softmax([13,2])"
   ]
  },
  {
   "cell_type": "code",
   "execution_count": 14,
   "id": "aa824c6b",
   "metadata": {},
   "outputs": [
    {
     "data": {
      "text/plain": [
       "array([[1, 0, 0, 0]])"
      ]
     },
     "execution_count": 14,
     "metadata": {},
     "output_type": "execute_result"
    }
   ],
   "source": [
    "x = np.array(\n",
    "    [\n",
    "        [1,],\n",
    "        [0,],\n",
    "        [0,],\n",
    "        [0,],\n",
    "    ]\n",
    ")\n",
    "\n",
    "np.transpose(x_t)"
   ]
  },
  {
   "cell_type": "code",
   "execution_count": 22,
   "id": "228ace03",
   "metadata": {},
   "outputs": [
    {
     "data": {
      "text/plain": [
       "array([[ 2.88493051],\n",
       "       [-2.73064836]])"
      ]
     },
     "execution_count": 22,
     "metadata": {},
     "output_type": "execute_result"
    }
   ],
   "source": [
    "np.matmul(Wax, x)"
   ]
  },
  {
   "cell_type": "code",
   "execution_count": 10,
   "id": "ddd8d855",
   "metadata": {},
   "outputs": [
    {
     "data": {
      "text/plain": [
       "array([[-0.40568605,  0.56756403,  1.63334468, -0.61758611],\n",
       "       [-0.32423653,  2.11101596,  0.21589122, -0.51540087],\n",
       "       [-0.35836128,  0.75951775, -0.28494713,  0.0465506 ],\n",
       "       [-0.66905754,  2.7682252 ,  0.31994799,  0.49097578],\n",
       "       [ 0.8972995 ,  0.66977169,  1.21644911,  0.21844172]])"
      ]
     },
     "execution_count": 10,
     "metadata": {},
     "output_type": "execute_result"
    }
   ],
   "source": []
  }
 ],
 "metadata": {
  "kernelspec": {
   "display_name": "Python 3",
   "language": "python",
   "name": "python3"
  },
  "language_info": {
   "codemirror_mode": {
    "name": "ipython",
    "version": 3
   },
   "file_extension": ".py",
   "mimetype": "text/x-python",
   "name": "python",
   "nbconvert_exporter": "python",
   "pygments_lexer": "ipython3",
   "version": "3.6.9"
  }
 },
 "nbformat": 4,
 "nbformat_minor": 5
}
